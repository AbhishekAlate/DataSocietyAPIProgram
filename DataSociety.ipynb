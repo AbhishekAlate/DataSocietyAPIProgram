{
 "cells": [
  {
   "cell_type": "markdown",
   "metadata": {},
   "source": [
    "# National Weather Service API program"
   ]
  },
  {
   "cell_type": "markdown",
   "metadata": {},
   "source": [
    "### Importing packgaes we need"
   ]
  },
  {
   "cell_type": "code",
   "execution_count": 14,
   "metadata": {},
   "outputs": [],
   "source": [
    "# Pandas to manipulate data\n",
    "import pandas as pd\n",
    "\n",
    "# Numpy - primarily for vectorization\n",
    "import numpy as np\n",
    "\n",
    "# To make REST calls\n",
    "import requests\n",
    "\n",
    "# os for seeking in the file\n",
    "import os"
   ]
  },
  {
   "cell_type": "markdown",
   "metadata": {},
   "source": [
    "### Reading the file now.\n",
    "\n",
    "Following intruction: <br>\n",
    "\"Given a list of three geographic US lat / long values in a text file, in this format (you should manually put these three lines into the text file with a text editor)\" \n"
   ]
  },
  {
   "cell_type": "code",
   "execution_count": 2,
   "metadata": {},
   "outputs": [],
   "source": [
    "# Reading the file\n",
    "latlong = pd.read_csv(\"LatLong.csv\", header=None, names=[\"Latitude\" , \"Longitude\"])"
   ]
  },
  {
   "cell_type": "markdown",
   "metadata": {},
   "source": [
    "### Taking a peek to confirm read went right"
   ]
  },
  {
   "cell_type": "code",
   "execution_count": 3,
   "metadata": {
    "scrolled": true
   },
   "outputs": [
    {
     "data": {
      "text/html": [
       "<div>\n",
       "<style scoped>\n",
       "    .dataframe tbody tr th:only-of-type {\n",
       "        vertical-align: middle;\n",
       "    }\n",
       "\n",
       "    .dataframe tbody tr th {\n",
       "        vertical-align: top;\n",
       "    }\n",
       "\n",
       "    .dataframe thead th {\n",
       "        text-align: right;\n",
       "    }\n",
       "</style>\n",
       "<table border=\"1\" class=\"dataframe\">\n",
       "  <thead>\n",
       "    <tr style=\"text-align: right;\">\n",
       "      <th></th>\n",
       "      <th>Latitude</th>\n",
       "      <th>Longitude</th>\n",
       "    </tr>\n",
       "  </thead>\n",
       "  <tbody>\n",
       "    <tr>\n",
       "      <th>0</th>\n",
       "      <td>38.2527° N</td>\n",
       "      <td>85.7585° W</td>\n",
       "    </tr>\n",
       "    <tr>\n",
       "      <th>1</th>\n",
       "      <td>42.3601° N</td>\n",
       "      <td>71.0589° W</td>\n",
       "    </tr>\n",
       "    <tr>\n",
       "      <th>2</th>\n",
       "      <td>39.1031° N</td>\n",
       "      <td>84.5120° W</td>\n",
       "    </tr>\n",
       "  </tbody>\n",
       "</table>\n",
       "</div>"
      ],
      "text/plain": [
       "     Latitude    Longitude\n",
       "0  38.2527° N   85.7585° W\n",
       "1  42.3601° N   71.0589° W\n",
       "2  39.1031° N   84.5120° W"
      ]
     },
     "execution_count": 3,
     "metadata": {},
     "output_type": "execute_result"
    }
   ],
   "source": [
    "latlong"
   ]
  },
  {
   "cell_type": "markdown",
   "metadata": {},
   "source": [
    "### Making the conversion from Degrees Decimal Minutes (DDM) to Decimal Degrees (DD)"
   ]
  },
  {
   "cell_type": "markdown",
   "metadata": {},
   "source": [
    "Note: We can convert using LatLon package, but here we are using barebones code. (pip install LatLon)"
   ]
  },
  {
   "cell_type": "code",
   "execution_count": 4,
   "metadata": {},
   "outputs": [],
   "source": [
    "# Simply keeping digit before and after the decimal, essentially stripping everything else except for float value.\n",
    "latlong['Latitude_stripped'] = latlong['Latitude'].str.extract(r'(\\d+.\\d+)').astype('str')\n",
    "latlong['Longitude_stripped'] = latlong['Longitude'].str.extract(r'(\\d+.\\d+)').astype('str')\n",
    "\n",
    "# Additional given how Latitude and Longitude conversion works we need to prepend negative sign\n",
    "latlong['Longitude_stripped'] = '-' + latlong['Longitude_stripped']"
   ]
  },
  {
   "cell_type": "markdown",
   "metadata": {},
   "source": [
    "### Looking at the dataset again to confirm strip went right"
   ]
  },
  {
   "cell_type": "code",
   "execution_count": 5,
   "metadata": {},
   "outputs": [
    {
     "data": {
      "text/html": [
       "<div>\n",
       "<style scoped>\n",
       "    .dataframe tbody tr th:only-of-type {\n",
       "        vertical-align: middle;\n",
       "    }\n",
       "\n",
       "    .dataframe tbody tr th {\n",
       "        vertical-align: top;\n",
       "    }\n",
       "\n",
       "    .dataframe thead th {\n",
       "        text-align: right;\n",
       "    }\n",
       "</style>\n",
       "<table border=\"1\" class=\"dataframe\">\n",
       "  <thead>\n",
       "    <tr style=\"text-align: right;\">\n",
       "      <th></th>\n",
       "      <th>Latitude</th>\n",
       "      <th>Longitude</th>\n",
       "      <th>Latitude_stripped</th>\n",
       "      <th>Longitude_stripped</th>\n",
       "    </tr>\n",
       "  </thead>\n",
       "  <tbody>\n",
       "    <tr>\n",
       "      <th>0</th>\n",
       "      <td>38.2527° N</td>\n",
       "      <td>85.7585° W</td>\n",
       "      <td>38.2527</td>\n",
       "      <td>-85.7585</td>\n",
       "    </tr>\n",
       "    <tr>\n",
       "      <th>1</th>\n",
       "      <td>42.3601° N</td>\n",
       "      <td>71.0589° W</td>\n",
       "      <td>42.3601</td>\n",
       "      <td>-71.0589</td>\n",
       "    </tr>\n",
       "    <tr>\n",
       "      <th>2</th>\n",
       "      <td>39.1031° N</td>\n",
       "      <td>84.5120° W</td>\n",
       "      <td>39.1031</td>\n",
       "      <td>-84.5120</td>\n",
       "    </tr>\n",
       "  </tbody>\n",
       "</table>\n",
       "</div>"
      ],
      "text/plain": [
       "     Latitude    Longitude Latitude_stripped Longitude_stripped\n",
       "0  38.2527° N   85.7585° W           38.2527           -85.7585\n",
       "1  42.3601° N   71.0589° W           42.3601           -71.0589\n",
       "2  39.1031° N   84.5120° W           39.1031           -84.5120"
      ]
     },
     "execution_count": 5,
     "metadata": {},
     "output_type": "execute_result"
    }
   ],
   "source": [
    "latlong"
   ]
  },
  {
   "cell_type": "markdown",
   "metadata": {},
   "source": [
    "### Setting the endpoint start string so we can change in future if needed"
   ]
  },
  {
   "cell_type": "code",
   "execution_count": 6,
   "metadata": {},
   "outputs": [],
   "source": [
    "# setting our endpoint for the request which we will append with Latitude and Longitude\n",
    "URL_endpoin_start_string = \"https://api.weather.gov/points/\""
   ]
  },
  {
   "cell_type": "markdown",
   "metadata": {},
   "source": [
    "### Writing a vectorized function to save time and keep to code succint/redable."
   ]
  },
  {
   "cell_type": "code",
   "execution_count": 7,
   "metadata": {
    "code_folding": []
   },
   "outputs": [],
   "source": [
    "# Using numpy vectorize decorator to vectorize our custom function.\n",
    "@np.vectorize\n",
    "def get_location_temperature(lat, long):\n",
    "    # creating a url with Latitude and Longitude to make the REST call\n",
    "    URL = URL_endpoin_start_string + lat + \",\" + long\n",
    "    \n",
    "    # Making a request now\n",
    "    try:\n",
    "        req_first = requests.get(url = URL)\n",
    "    except Exception as e:\n",
    "        print(\"Something went wrong, refer: \", e)\n",
    "    \n",
    "    # Getting json for the request response we just made\n",
    "    req_first_data = req_first.json()\n",
    "    \n",
    "    # Getting the URL which will be used to make the second call\n",
    "    forecast_url = req_first_data[\"properties\"][\"forecast\"]\n",
    "    \n",
    "    # Making the second call to get the data we need.\n",
    "    try:\n",
    "        req_second = requests.get(url = forecast_url)\n",
    "    except Exception as e:\n",
    "        print(\"Something went wrong, refer: \", e)\n",
    "    \n",
    "    # Getting json for the request response we just made\n",
    "    req_second_data = req_second.json()\n",
    "    \n",
    "    # Getting the Wewdnesday Night temperature by paring the json.\n",
    "    wednesday_temprature = req_second_data[\"properties\"][\"periods\"][6][\"temperature\"]\n",
    "    \n",
    "    # Returning the row\n",
    "    return wednesday_temprature"
   ]
  },
  {
   "cell_type": "markdown",
   "metadata": {},
   "source": [
    "### Calling our vectorized function to get the temperature for each Latitude and Longitude\n",
    "(Note: if the exposed API is busy it may not behave well, just rerun the following for anything unexpected.)"
   ]
  },
  {
   "cell_type": "code",
   "execution_count": 8,
   "metadata": {},
   "outputs": [],
   "source": [
    "latlong[\"Wednesday_night_temp\"] = get_location_temperature(latlong[\"Latitude_stripped\"] ,latlong[\"Longitude_stripped\"])"
   ]
  },
  {
   "cell_type": "markdown",
   "metadata": {},
   "source": [
    "### Taking a look at data frame and Wednesday night temperatures"
   ]
  },
  {
   "cell_type": "code",
   "execution_count": 9,
   "metadata": {
    "scrolled": false
   },
   "outputs": [
    {
     "data": {
      "text/html": [
       "<div>\n",
       "<style scoped>\n",
       "    .dataframe tbody tr th:only-of-type {\n",
       "        vertical-align: middle;\n",
       "    }\n",
       "\n",
       "    .dataframe tbody tr th {\n",
       "        vertical-align: top;\n",
       "    }\n",
       "\n",
       "    .dataframe thead th {\n",
       "        text-align: right;\n",
       "    }\n",
       "</style>\n",
       "<table border=\"1\" class=\"dataframe\">\n",
       "  <thead>\n",
       "    <tr style=\"text-align: right;\">\n",
       "      <th></th>\n",
       "      <th>Latitude</th>\n",
       "      <th>Longitude</th>\n",
       "      <th>Latitude_stripped</th>\n",
       "      <th>Longitude_stripped</th>\n",
       "      <th>Wednesday_night_temp</th>\n",
       "    </tr>\n",
       "  </thead>\n",
       "  <tbody>\n",
       "    <tr>\n",
       "      <th>0</th>\n",
       "      <td>38.2527° N</td>\n",
       "      <td>85.7585° W</td>\n",
       "      <td>38.2527</td>\n",
       "      <td>-85.7585</td>\n",
       "      <td>94</td>\n",
       "    </tr>\n",
       "    <tr>\n",
       "      <th>1</th>\n",
       "      <td>42.3601° N</td>\n",
       "      <td>71.0589° W</td>\n",
       "      <td>42.3601</td>\n",
       "      <td>-71.0589</td>\n",
       "      <td>61</td>\n",
       "    </tr>\n",
       "    <tr>\n",
       "      <th>2</th>\n",
       "      <td>39.1031° N</td>\n",
       "      <td>84.5120° W</td>\n",
       "      <td>39.1031</td>\n",
       "      <td>-84.5120</td>\n",
       "      <td>94</td>\n",
       "    </tr>\n",
       "  </tbody>\n",
       "</table>\n",
       "</div>"
      ],
      "text/plain": [
       "     Latitude    Longitude Latitude_stripped Longitude_stripped  \\\n",
       "0  38.2527° N   85.7585° W           38.2527           -85.7585   \n",
       "1  42.3601° N   71.0589° W           42.3601           -71.0589   \n",
       "2  39.1031° N   84.5120° W           39.1031           -84.5120   \n",
       "\n",
       "   Wednesday_night_temp  \n",
       "0                    94  \n",
       "1                    61  \n",
       "2                    94  "
      ]
     },
     "execution_count": 9,
     "metadata": {},
     "output_type": "execute_result"
    }
   ],
   "source": [
    "latlong"
   ]
  },
  {
   "cell_type": "markdown",
   "metadata": {},
   "source": [
    "## Writing to a local text file in the required format"
   ]
  },
  {
   "cell_type": "code",
   "execution_count": 10,
   "metadata": {},
   "outputs": [],
   "source": [
    "Wednesday_night_temp_list = latlong[\"Wednesday_night_temp\"].values.tolist()"
   ]
  },
  {
   "cell_type": "code",
   "execution_count": 17,
   "metadata": {},
   "outputs": [],
   "source": [
    "with open('WednesdayNightTemperature.txt', 'w') as filehandle:\n",
    "    # for looping through each value in the list\n",
    "    for each in Wednesday_night_temp_list:\n",
    "            filehandle.writelines(\"%s,\" % each)\n",
    "    filehandle.seek(filehandle.tell() - 1, os.SEEK_SET) \n",
    "    filehandle.truncate()"
   ]
  },
  {
   "cell_type": "markdown",
   "metadata": {},
   "source": [
    "### Additional content "
   ]
  },
  {
   "cell_type": "markdown",
   "metadata": {},
   "source": [
    "### Taking a quick look at the performace (seems pretty scalable for large number of rows as well)"
   ]
  },
  {
   "cell_type": "code",
   "execution_count": 13,
   "metadata": {},
   "outputs": [
    {
     "name": "stdout",
     "output_type": "stream",
     "text": [
      "364 ms ± 9.32 ms per loop (mean ± std. dev. of 7 runs, 1 loop each)\n"
     ]
    }
   ],
   "source": [
    "%%timeit\n",
    "latlong[\"Wednesday_night_temp\"] = get_location_temperature(latlong[\"Latitude_stripped\"] ,latlong[\"Longitude_stripped\"])"
   ]
  },
  {
   "cell_type": "code",
   "execution_count": null,
   "metadata": {},
   "outputs": [],
   "source": []
  }
 ],
 "metadata": {
  "kernelspec": {
   "display_name": "Python 3",
   "language": "python",
   "name": "python3"
  },
  "language_info": {
   "codemirror_mode": {
    "name": "ipython",
    "version": 3
   },
   "file_extension": ".py",
   "mimetype": "text/x-python",
   "name": "python",
   "nbconvert_exporter": "python",
   "pygments_lexer": "ipython3",
   "version": "3.7.6"
  }
 },
 "nbformat": 4,
 "nbformat_minor": 4
}
