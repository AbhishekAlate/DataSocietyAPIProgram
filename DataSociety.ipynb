{
 "cells": [
  {
   "cell_type": "markdown",
   "metadata": {},
   "source": [
    "# National Weather Service API program"
   ]
  },
  {
   "cell_type": "markdown",
   "metadata": {},
   "source": [
    "### Importing packgaes we need"
   ]
  },
  {
   "cell_type": "code",
   "execution_count": 2,
   "metadata": {},
   "outputs": [],
   "source": [
    "# Pandas to manipulate data\n",
    "import pandas as pd\n",
    "\n",
    "# Numpy - primarily for vectorization\n",
    "import numpy as np\n",
    "\n",
    "# To make REST calls\n",
    "import requests"
   ]
  },
  {
   "cell_type": "markdown",
   "metadata": {},
   "source": [
    "### Reading the file now.\n",
    "\n",
    "Following intruction: <br>\n",
    "\"Given a list of three geographic US lat / long values in a text file, in this format (you should manually put these three lines into the text file with a text editor)\" \n"
   ]
  },
  {
   "cell_type": "code",
   "execution_count": null,
   "metadata": {},
   "outputs": [],
   "source": [
    "# Reading the file\n",
    "latlong = pd.read_csv(\"LatLong.csv\", header=None, names=[\"Latitude\" , \"Longitude\"])"
   ]
  },
  {
   "cell_type": "markdown",
   "metadata": {},
   "source": [
    "### Taking a peek to confirm read went right"
   ]
  },
  {
   "cell_type": "code",
   "execution_count": null,
   "metadata": {
    "scrolled": true
   },
   "outputs": [],
   "source": [
    "latlong"
   ]
  },
  {
   "cell_type": "markdown",
   "metadata": {},
   "source": [
    "### Making the conversion from Degrees Decimal Minutes (DDM) to Decimal Degrees (DD)"
   ]
  },
  {
   "cell_type": "markdown",
   "metadata": {},
   "source": [
    "Note: We can convert using LatLon package, but here we are using barebones code. (pip install LatLon)"
   ]
  },
  {
   "cell_type": "code",
   "execution_count": null,
   "metadata": {},
   "outputs": [],
   "source": [
    "# Simply keeping digit before and after the decimal, essentially stripping everything else except for float value.\n",
    "latlong['Latitude_stripped'] = latlong['Latitude'].str.extract(r'(\\d+.\\d+)').astype('str')\n",
    "latlong['Longitude_stripped'] = latlong['Longitude'].str.extract(r'(\\d+.\\d+)').astype('str')\n",
    "\n",
    "# Additional given how Latitude and Longitude conversion works we need to prepend negative sign\n",
    "latlong['Longitude_stripped'] = '-' + latlong['Longitude_stripped']"
   ]
  },
  {
   "cell_type": "markdown",
   "metadata": {},
   "source": [
    "### Looking at the dataset again to confirm strip went right"
   ]
  },
  {
   "cell_type": "code",
   "execution_count": null,
   "metadata": {},
   "outputs": [],
   "source": [
    "latlong"
   ]
  },
  {
   "cell_type": "markdown",
   "metadata": {},
   "source": [
    "### Setting the endpoint start string so we can change in future if needed"
   ]
  },
  {
   "cell_type": "code",
   "execution_count": null,
   "metadata": {},
   "outputs": [],
   "source": [
    "# setting our endpoint for the request which we will append with Latitude and Longitude\n",
    "URL_endpoin_start_string = \"https://api.weather.gov/points/\""
   ]
  },
  {
   "cell_type": "markdown",
   "metadata": {},
   "source": [
    "### Writing a vectorized function to save time and keep to code succint/redable."
   ]
  },
  {
   "cell_type": "code",
   "execution_count": null,
   "metadata": {
    "code_folding": []
   },
   "outputs": [],
   "source": [
    "# Using numpy vectorize decorator to vectorize our custom function.\n",
    "@np.vectorize\n",
    "def get_location_temperature(lat, long):\n",
    "    # creating a url with Latitude and Longitude to make the REST call\n",
    "    URL = URL_endpoin_start_string + lat + \",\" + long\n",
    "    \n",
    "    # Making a request now\n",
    "    try:\n",
    "        req_first = requests.get(url = URL)\n",
    "    except Exception as e:\n",
    "        print(\"Something went wrong, refer: \", e)\n",
    "    \n",
    "    # Getting json for the request response we just made\n",
    "    req_first_data = req_first.json()\n",
    "    \n",
    "    # Getting the URL which will be used to make the second call\n",
    "    forecast_url = req_first_data[\"properties\"][\"forecast\"]\n",
    "    \n",
    "    # Making the second call to get the data we need.\n",
    "    try:\n",
    "        req_second = requests.get(url = forecast_url)\n",
    "    except Exception as e:\n",
    "        print(\"Something went wrong, refer: \", e)\n",
    "    \n",
    "    # Getting json for the request response we just made\n",
    "    req_second_data = req_second.json()\n",
    "    \n",
    "    # Getting the Wewdnesday Night temperature by paring the json.\n",
    "    wednesday_temprature = req_second_data[\"properties\"][\"periods\"][6][\"temperature\"]\n",
    "    \n",
    "    # Returning the row\n",
    "    return wednesday_temprature"
   ]
  },
  {
   "cell_type": "markdown",
   "metadata": {},
   "source": [
    "### Calling our vectorized function to get the temperature for each Latitude and Longitude\n",
    "(Note: if the exposed API is busy it may not behave well, just rerun the following for anything unexpected.)"
   ]
  },
  {
   "cell_type": "code",
   "execution_count": null,
   "metadata": {},
   "outputs": [],
   "source": [
    "latlong[\"Wednesday_night_temp\"] = get_location_temperature(latlong[\"Latitude_stripped\"] ,latlong[\"Longitude_stripped\"])"
   ]
  },
  {
   "cell_type": "markdown",
   "metadata": {},
   "source": [
    "### Taking a look at data frame and Wednesday night temperatures"
   ]
  },
  {
   "cell_type": "code",
   "execution_count": null,
   "metadata": {
    "scrolled": false
   },
   "outputs": [],
   "source": [
    "latlong"
   ]
  },
  {
   "cell_type": "markdown",
   "metadata": {},
   "source": [
    "## Writing to a local text file in the required format"
   ]
  },
  {
   "cell_type": "code",
   "execution_count": null,
   "metadata": {},
   "outputs": [],
   "source": [
    "Wednesday_night_temp_list = latlong[\"Wednesday_night_temp\"].values.tolist()"
   ]
  },
  {
   "cell_type": "code",
   "execution_count": null,
   "metadata": {},
   "outputs": [],
   "source": [
    "with open('WednesdayNightTemperature.txt', 'w') as filehandle:\n",
    "    # for looping through each value in the list\n",
    "    for each in Wednesday_night_temp_list:\n",
    "        # Using if to avoid the extra comma at the end of the print\n",
    "        if each != Wednesday_night_temp_list[-1]:\n",
    "            filehandle.writelines(\"%s,\" % each)\n",
    "        else:\n",
    "            filehandle.writelines(\"%s\" % each)"
   ]
  },
  {
   "cell_type": "markdown",
   "metadata": {},
   "source": [
    "### Additional content "
   ]
  },
  {
   "cell_type": "markdown",
   "metadata": {},
   "source": [
    "### Taking a quick look at the performace (seems pretty scalable for large number of rows as well)"
   ]
  },
  {
   "cell_type": "code",
   "execution_count": null,
   "metadata": {},
   "outputs": [],
   "source": [
    "%%timeit\n",
    "latlong[\"Wednesday_night_temp\"] = get_location_temperature(latlong[\"Latitude_stripped\"] ,latlong[\"Longitude_stripped\"])"
   ]
  }
 ],
 "metadata": {
  "kernelspec": {
   "display_name": "Python 3",
   "language": "python",
   "name": "python3"
  },
  "language_info": {
   "codemirror_mode": {
    "name": "ipython",
    "version": 3
   },
   "file_extension": ".py",
   "mimetype": "text/x-python",
   "name": "python",
   "nbconvert_exporter": "python",
   "pygments_lexer": "ipython3",
   "version": "3.7.6"
  }
 },
 "nbformat": 4,
 "nbformat_minor": 4
}
